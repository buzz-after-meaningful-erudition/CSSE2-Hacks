{
 "cells": [
  {
   "cell_type": "raw",
   "id": "af14f31b",
   "metadata": {
    "vscode": {
     "languageId": "raw"
    }
   },
   "source": [
    "---\n",
    "toc: true\n",
    "comments: true\n",
    "layout: post\n",
    "title: Implementing a API and Local Scoreboard  System in a JavaScript Game\n",
    "description: Learn how to implement a API and Local Scoreboards in a JavaScript game that takes you to the very next level. \n",
    "categories: [AdPlat] \n",
    "permalink: /adplat/API-Scoreboard\n",
    "author: Ruhaan Bansal\n",
    "courses: { csse: {week: 17} }\n",
    "type: ccc\n",
    "---"
   ]
  },
  {
   "cell_type": "markdown",
   "id": "a9d116b3",
   "metadata": {},
   "source": [
    "# Lesson: APIs and Local Scoreboards\n",
    "\n",
    "## Overview\n",
    "\n",
    "In this lesson, you’ll learn:\n",
    "\n",
    "- What an API is and how it works  \n",
    "- The difference between local and remote storage  \n",
    "- How to create and manage a local scoreboard  \n",
    "- How to send and retrieve data using an API  \n",
    "\n",
    "---\n",
    "\n",
    "## What is an API?\n",
    "\n",
    "**API** stands for **Application Programming Interface**. It lets two pieces of software talk to each other.\n",
    "\n",
    "For example, a game can use an API to:\n",
    "\n",
    "- Save high scores to a remote server  \n",
    "- Get player rankings  \n",
    "- Load user profiles or achievements  \n",
    "\n",
    "### Example:"
   ]
  },
  {
   "cell_type": "code",
   "execution_count": 7,
   "id": "cfeaa908",
   "metadata": {
    "vscode": {
     "languageId": "javascript"
    }
   },
   "outputs": [
    {
     "data": {
      "application/javascript": "fetch(\"https://api.example.com/scores\")\n  .then(res => res.json())\n  .then(data => console.log(data));\n",
      "text/plain": [
       "<IPython.core.display.Javascript object>"
      ]
     },
     "metadata": {},
     "output_type": "display_data"
    }
   ],
   "source": [
    "%%js\n",
    "fetch(\"https://api.example.com/scores\")\n",
    "  .then(res => res.json())\n",
    "  .then(data => console.log(data));"
   ]
  },
  {
   "cell_type": "markdown",
   "id": "0433c155",
   "metadata": {},
   "source": [
    "# Local Scoreboard\n",
    "\n",
    "A local scoreboard saves data in the user's browser or device, usually using:\n",
    "\n",
    "- `localStorage` (for web)  \n",
    "- Files or databases (for desktop/mobile apps)\n",
    "\n",
    "## Pros:\n",
    "- Fast and offline  \n",
    "- Easy to implement  \n",
    "\n",
    "## Cons:\n",
    "- Only available on that device  \n",
    "- Can’t share scores globally  \n",
    "\n",
    "## Example: (Web - localStorage):\n"
   ]
  },
  {
   "cell_type": "code",
   "execution_count": 8,
   "id": "b6a0cff3",
   "metadata": {
    "vscode": {
     "languageId": "javascript"
    }
   },
   "outputs": [
    {
     "data": {
      "application/javascript": "function saveScore(name, score) {\n    const scores = JSON.parse(localStorage.getItem(\"scores\") || \"[]\");\n    scores.push({ name, score });\n    localStorage.setItem(\"scores\", JSON.stringify(scores));\n  }\n  \n  function getScores() {\n    return JSON.parse(localStorage.getItem(\"scores\") || \"[]\");\n  }\n  \n",
      "text/plain": [
       "<IPython.core.display.Javascript object>"
      ]
     },
     "metadata": {},
     "output_type": "display_data"
    }
   ],
   "source": [
    "%%js \n",
    "function saveScore(name, score) {\n",
    "    const scores = JSON.parse(localStorage.getItem(\"scores\") || \"[]\");\n",
    "    scores.push({ name, score });\n",
    "    localStorage.setItem(\"scores\", JSON.stringify(scores));\n",
    "  }\n",
    "  \n",
    "  function getScores() {\n",
    "    return JSON.parse(localStorage.getItem(\"scores\") || \"[]\");\n",
    "  }\n",
    "  "
   ]
  },
  {
   "cell_type": "markdown",
   "id": "f67f678b",
   "metadata": {},
   "source": [
    "# Using an API for Scoreboards\n",
    "\n",
    "If you want a global scoreboard, you need a backend with an API.  \n",
    "This could be a simple REST API that supports:\n",
    "\n",
    "- `POST /scores` to submit new scores  \n",
    "- `GET /scores` to retrieve the top scores\n",
    "\n",
    "## Example (Sending a Score):"
   ]
  },
  {
   "cell_type": "code",
   "execution_count": 9,
   "id": "da85cc5a",
   "metadata": {
    "vscode": {
     "languageId": "javascript"
    }
   },
   "outputs": [
    {
     "data": {
      "application/javascript": "fetch(\"https://api.example.com/scores\", {\n    method: \"POST\",\n    headers: { \"Content-Type\": \"application/json\" },\n    body: JSON.stringify({ name: \"Player1\", score: 2000 })\n  });\n  \n",
      "text/plain": [
       "<IPython.core.display.Javascript object>"
      ]
     },
     "metadata": {},
     "output_type": "display_data"
    }
   ],
   "source": [
    "%%js\n",
    "fetch(\"https://api.example.com/scores\", {\n",
    "    method: \"POST\",\n",
    "    headers: { \"Content-Type\": \"application/json\" },\n",
    "    body: JSON.stringify({ name: \"Player1\", score: 2000 })\n",
    "  });\n",
    "  "
   ]
  },
  {
   "cell_type": "markdown",
   "id": "a495ef3d",
   "metadata": {},
   "source": [
    "##  Example (Getting Scores):"
   ]
  },
  {
   "cell_type": "code",
   "execution_count": 10,
   "id": "f1c714aa",
   "metadata": {
    "vscode": {
     "languageId": "javascript"
    }
   },
   "outputs": [
    {
     "data": {
      "application/javascript": "fetch(\"https://api.example.com/scores\")\n  .then(res => res.json())\n  .then(scores => console.log(scores));\n",
      "text/plain": [
       "<IPython.core.display.Javascript object>"
      ]
     },
     "metadata": {},
     "output_type": "display_data"
    }
   ],
   "source": [
    "%%js \n",
    "fetch(\"https://api.example.com/scores\")\n",
    "  .then(res => res.json())\n",
    "  .then(scores => console.log(scores));\n"
   ]
  },
  {
   "cell_type": "markdown",
   "id": "931b8a75",
   "metadata": {},
   "source": [
    "## Summary\n",
    "\n",
    "| Feature            | Local Scoreboard | API-based Scoreboard   |\n",
    "|--------------------|------------------|-------------------------|\n",
    "| Works offline      | Yes              | No                      |\n",
    "| Data is shared     | No               | Yes                     |\n",
    "| Easy to set up     | Yes              | Partial (Requires backend) |\n",
    "| Secure & scalable  | No               | Yes                     |\n"
   ]
  },
  {
   "cell_type": "markdown",
   "id": "4c81fb29",
   "metadata": {},
   "source": []
  },
  {
   "cell_type": "markdown",
   "id": "dcc9d32c",
   "metadata": {},
   "source": [
    "## Hacks\n",
    "\n",
    "Create a simple HTML page with a form to submit a name and score.\n",
    "\n",
    "- Save the scores locally using `localStorage`.\n",
    "- Display the top 5 scores in a table.\n",
    "\n",
    "### Homework \n",
    "Use a mock API like [MockAPI](https://mockapi.io/) or [JSONBin](https://jsonbin.io/) to store scores remotely.\n"
   ]
  }
 ],
 "metadata": {
  "kernelspec": {
   "display_name": "Python 3",
   "language": "python",
   "name": "python3"
  },
  "language_info": {
   "codemirror_mode": {
    "name": "ipython",
    "version": 3
   },
   "file_extension": ".py",
   "mimetype": "text/x-python",
   "name": "python",
   "nbconvert_exporter": "python",
   "pygments_lexer": "ipython3",
   "version": "3.11.9"
  }
 },
 "nbformat": 4,
 "nbformat_minor": 5
}
