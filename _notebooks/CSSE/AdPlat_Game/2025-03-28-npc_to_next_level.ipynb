{
 "cells": [
  {
   "cell_type": "markdown",
   "metadata": {},
   "source": []
  },
  {
   "cell_type": "raw",
   "metadata": {
    "vscode": {
     "languageId": "raw"
    }
   },
   "source": [
    "---\n",
    "toc: true\n",
    "comments: true\n",
    "layout: post\n",
    "title: Implementing a NPC warp System in a JavaScript Game\n",
    "description: Learn how to implement a NPC in a JavaScript that takes you to the very next level. \n",
    "categories: [AdPlat] \n",
    "permalink: /adplat/NPC Advance\n",
    "author: Nikhil Ekambaram, Zhengji Li\n",
    "courses: { csse: {week: 15} }\n",
    "type: ccc\n",
    "---"
   ]
  },
  {
   "cell_type": "markdown",
   "metadata": {},
   "source": [
    "# How too make a NPC to advance to the next level"
   ]
  },
  {
   "cell_type": "markdown",
   "metadata": {},
   "source": [
    "<h2>Why should you do this?</h2>\n",
    "<ul>\n",
    "    <li>Increases user experience in game</li>\n",
    "    <li>Allows for smoother transition between levels</li>\n",
    "    <li>Can free up buttons on keyboard for other functions</li>\n",
    "    <li>Multiple NPC's can take you to different levels which allows for a \"hub\" level</li>\n",
    "\n",
    "\n",
    "</ul>"
   ]
  },
  {
   "cell_type": "markdown",
   "metadata": {},
   "source": [
    "> In our game, we have an end portal NPC that will take you to the next level\n",
    "\n",
    "# End Portal Code Example\n"
   ]
  },
  {
   "cell_type": "code",
   "execution_count": null,
   "metadata": {
    "vscode": {
     "languageId": "javascript"
    }
   },
   "outputs": [],
   "source": [
    "\n",
    "    // NPC Data for R2D2\n",
    "    const sprite_src_r2d2 = path + \"/images/gamify/r2_idle.png\"; // be sure to include the path\n",
    "    const sprite_greet_r2d2 = \"Hi I am R2D2.  Leave this planet and help defent the rebel base on Hoth!\";\n",
    "    const sprite_data_r2d2 = {\n",
    "      id: 'StarWarsR2D2',\n",
    "      greeting: sprite_greet_r2d2,\n",
    "      src: sprite_src_r2d2,\n",
    "      SCALE_FACTOR: 8,  // Adjust this based on your scaling needs\n",
    "      ANIMATION_RATE: 100,\n",
    "      pixels: {width: 505, height: 223},\n",
    "      INIT_POSITION: { x: (width * 1 / 4), y: (height * 3 / 4)}, // Adjusted position\n",
    "      orientation: {rows: 1, columns: 3 },\n",
    "      down: {row: 0, start: 0, columns: 3 },  // This is the stationary npc, down is default \n",
    "      hitbox: { widthPercentage: 0.1, heightPercentage: 0.2 },\n",
    "      /* Reaction function\n",
    "      *  This function is called when the player collides with the NPC\n",
    "      *  It displays an alert with the greeting message\n",
    "      */\n",
    "      reaction: function() {\n",
    "        alert(sprite_greet_r2d2);\n",
    "      },\n",
    "      /* Interact function\n",
    "      *  This function is called when the player interacts with the NPC\n",
    "      *  It pauses the main game, creates a new GameControl instance with the StarWars level,\n",
    "      */\n",
    "      interact: function() {\n",
    "        // Set a primary game reference from the game environment\n",
    "        let primaryGame = gameEnv.gameControl;\n",
    "        // Define the game in game level\n",
    "        let levelArray = [GameLevelStarWars];\n",
    "        // Define a new GameControl instance with the StarWars level\n",
    "        let gameInGame = new GameControl(gameEnv.game,levelArray);\n",
    "        // Pause the primary game \n",
    "        primaryGame.pause();\n",
    "        // Start the game in game\n",
    "        gameInGame.start();\n",
    "        // Setup \"callback\" function to allow transition from game in gaame to the underlying game\n",
    "        gameInGame.gameOver = function() {\n",
    "          // Call .resume on primary game\n",
    "          primaryGame.resume();\n",
    "        }\n",
    "      }\n",
    "\n",
    "    };"
   ]
  },
  {
   "cell_type": "markdown",
   "metadata": {},
   "source": [
    "There are two main parts to this code to make R2D2. The first part is defining R2D2. This is done in the first part, where you add id's, greetings, scale factors, and the sorts. The second part defines how you interact with the NPC."
   ]
  },
  {
   "cell_type": "code",
   "execution_count": null,
   "metadata": {
    "vscode": {
     "languageId": "javascript"
    }
   },
   "outputs": [],
   "source": [
    "reaction: function() {\n",
    "    alert(sprite_greet_r2d2);\n",
    "  }"
   ]
  },
  {
   "cell_type": "markdown",
   "metadata": {},
   "source": [
    "This react function is called when the player collides with the NPC. It displays an alert with the greeting message."
   ]
  },
  {
   "cell_type": "code",
   "execution_count": null,
   "metadata": {
    "vscode": {
     "languageId": "javascript"
    }
   },
   "outputs": [],
   "source": [
    "interact: function() {\n",
    "    // Set a primary game reference from the game environment\n",
    "    let primaryGame = gameEnv.gameControl;\n",
    "    // Define the game in game level\n",
    "    let levelArray = [GameLevelStarWars];\n",
    "    // Define a new GameControl instance with the StarWars level\n",
    "    let gameInGame = new GameControl(gameEnv.game,levelArray);\n",
    "    // Pause the primary game \n",
    "    primaryGame.pause();\n",
    "    // Start the game in game\n",
    "    gameInGame.start();\n",
    "    // Setup \"callback\" function to allow transition from game in gaame to the underlying game\n",
    "    gameInGame.gameOver = function() {\n",
    "      // Call .resume on primary game\n",
    "      primaryGame.resume();\n",
    "    }\n",
    "  }\n"
   ]
  },
  {
   "cell_type": "markdown",
   "metadata": {},
   "source": [
    "This interact function is called when the player interacts with the NPC. It pauses the main game, creates a new GameControl instance with the StarWars level, and starts the game in the new level."
   ]
  },
  {
   "cell_type": "markdown",
   "metadata": {},
   "source": [
    "## How we could inplement this interact function into our games. <br>\n",
    "Currently, our "
   ]
  }
 ],
 "metadata": {
  "language_info": {
   "name": "python"
  }
 },
 "nbformat": 4,
 "nbformat_minor": 2
}
