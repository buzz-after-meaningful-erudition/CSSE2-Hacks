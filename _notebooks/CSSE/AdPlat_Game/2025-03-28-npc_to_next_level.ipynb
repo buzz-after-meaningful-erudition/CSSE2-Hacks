{
 "cells": [
  {
   "cell_type": "markdown",
   "metadata": {},
   "source": []
  },
  {
   "cell_type": "raw",
   "metadata": {
    "vscode": {
     "languageId": "raw"
    }
   },
   "source": [
    "---\n",
    "toc: true\n",
    "comments: true\n",
    "layout: post\n",
    "title: Implementing a NPC warp System in a JavaScript Game\n",
    "description: Learn how to implement a NPC in a JavaScript that takes you to the very next level. \n",
    "categories: [AdPlat] \n",
    "permalink: /adplat/NPC Advance\n",
    "author: Nikhil Ekambaram, Zhengji Li\n",
    "courses: { csse: {week: 15} }\n",
    "type: ccc\n",
    "---"
   ]
  },
  {
   "cell_type": "markdown",
   "metadata": {},
   "source": [
    "# How too make a NPC to advance to the next level"
   ]
  },
  {
   "cell_type": "markdown",
   "metadata": {},
   "source": [
    "<h2>Why should you do this?</h2>\n",
    "<ul>\n",
    "    <li>Increases user experience in game</li>\n",
    "    <li>Allows for smoother transition between levels</li>\n",
    "    <li>Can free up buttons on keyboard for other functions</li>\n",
    "    <li>Multiple NPC's can take you to different levels which allows for a \"hub\" level</li>\n",
    "\n",
    "\n",
    "</ul>"
   ]
  },
  {
   "cell_type": "markdown",
   "metadata": {},
   "source": [
    "> In our game, we have an end portal NPC that will take you to the next level\n",
    "\n",
    "# End Portal Code Example\n"
   ]
  },
  {
   "cell_type": "code",
   "execution_count": null,
   "metadata": {
    "vscode": {
     "languageId": "javascript"
    }
   },
   "outputs": [],
   "source": [
    "\n",
    "// NPC Data for End Portal\n",
    "const sprite_src_endportal = path + \"/images/gamify/exitportalfull.png\"; // be sure to include the path\n",
    "const sprite_greet_endportal = \"Teleport to the End?\";\n",
    "const sprite_data_endportal = {\n",
    "  id: 'End Portal',\n",
    "  greeting: sprite_greet_endportal,\n",
    "  src: sprite_src_endportal,\n",
    "  SCALE_FACTOR: 16,  // Adjust this based on your scaling needs\n",
    "  ANIMATION_RATE: 100,\n",
    "  pixels: {width: 2029, height: 2025},\n",
    "  INIT_POSITION: { x: (width * 1 / 2), y: (height * 1 / 10)}, // Adjusted position\n",
    "  orientation: {rows: 1, columns: 1 },\n",
    "  down: {row: 0, start: 0, columns: 1 },  // This is the stationary npc, down is default \n",
    "  hitbox: { widthPercentage: 0.1, heightPercentage: 0.2 },\n",
    "  /* Reaction function\n",
    "  *  This function is called when the player collides with the NPC\n",
    "  *  It displays an alert with the greeting message\n",
    "  */\n",
    "  reaction: function() {\n",
    "    alert(sprite_greet_endportal);\n",
    "  },\n",
    "  /* Interact function\n",
    "  *  This function is called when the player interacts with the NPC\n",
    "  *  It pauses the main game, creates a new GameControl instance with the StarWars level,\n",
    "  */\n",
    "  interact: function() {\n",
    "    // Set a primary game reference from the game environment\n",
    "    let primaryGame = gameEnv.gameControl;\n",
    "    // Define the game in game level\n",
    "    let levelArray = [GameLevelEnd];\n",
    "    // Define a new GameControl instance with the StarWars level\n",
    "    let gameInGame = new GameControl(gameEnv.game,levelArray);\n",
    "    // Pause the primary game \n",
    "    primaryGame.pause();\n",
    "    // Start the game in game\n",
    "    gameInGame.start();\n",
    "    // Setup \"callback\" function to allow transition from game in game to the underlying game\n",
    "    gameInGame.gameOver = function() {\n",
    "      // Call .resume on primary game\n",
    "      primaryGame.resume();\n",
    "    }\n",
    "  }\n",
    "\n",
    "};"
   ]
  },
  {
   "cell_type": "markdown",
   "metadata": {},
   "source": [
    "There are two main parts to this code to make our end portal. The first part is defining the end portal. This is done in the first part, where you add id's, greetings, scale factors, and the sorts. The second part defines how you interact with the end portal."
   ]
  },
  {
   "cell_type": "code",
   "execution_count": null,
   "metadata": {
    "vscode": {
     "languageId": "javascript"
    }
   },
   "outputs": [],
   "source": [
    "reaction: function() {\n",
    "    alert(sprite_greet_endportal);\n",
    "  }"
   ]
  },
  {
   "cell_type": "markdown",
   "metadata": {},
   "source": [
    "This react function is called when the player collides with the end portal. It displays an alert with the greeting message."
   ]
  },
  {
   "cell_type": "code",
   "execution_count": null,
   "metadata": {
    "vscode": {
     "languageId": "javascript"
    }
   },
   "outputs": [],
   "source": [
    "interact: function() {\n",
    "    // Set a primary game reference from the game environment\n",
    "    let primaryGame = gameEnv.gameControl;\n",
    "    // Define the game in game level\n",
    "    let levelArray = [GameLevelStarWars];\n",
    "    // Define a new GameControl instance with the StarWars level\n",
    "    let gameInGame = new GameControl(gameEnv.game,levelArray);\n",
    "    // Pause the primary game \n",
    "    primaryGame.pause();\n",
    "    // Start the game in game\n",
    "    gameInGame.start();\n",
    "    // Setup \"callback\" function to allow transition from game in gaame to the underlying game\n",
    "    gameInGame.gameOver = function() {\n",
    "      // Call .resume on primary game\n",
    "      primaryGame.resume();\n",
    "    }\n",
    "  }\n"
   ]
  },
  {
   "cell_type": "markdown",
   "metadata": {},
   "source": [
    "This interact function is called when the player interacts with the NPC. It pauses the main game, creates a new GameControl instance with the StarWars level, and starts the game in the new level. The code above includes new functions from the loading screen hack. However, this can be done with simpler code"
   ]
  },
  {
   "cell_type": "code",
   "execution_count": null,
   "metadata": {
    "vscode": {
     "languageId": "javascript"
    }
   },
   "outputs": [],
   "source": [
    "handleLevelEnd() {\n",
    "    // Alert the user that the level has ended\n",
    "    if (this.currentLevelIndex < this.levelClasses.length - 1) {\n",
    "        alert(\"Level ended.\");\n",
    "    } else {\n",
    "        alert(\"All levels completed.\");\n",
    "    }\n",
    "    this.currentLevel.destroy();\n",
    "    // Call the gameOver callback if it exists\n",
    "    if (this.gameOver) {\n",
    "        this.gameOver();\n",
    "    } else {\n",
    "        this.currentLevelIndex++;\n",
    "        this.transitionToLevel();\n",
    "    }\n",
    "}\n",
    "transitionToLevel() {\n",
    "    const GameLevelClass = this.levelClasses[this.currentLevelIndex];\n",
    "    this.currentLevel = new GameLevel(this);\n",
    "    this.currentLevel.create(GameLevelClass);\n",
    "    this.gameLoop();\n",
    "}\n"
   ]
  },
  {
   "cell_type": "markdown",
   "metadata": {},
   "source": [
    "## How we could inplement this interact function into our games. <br>\n",
    "- Currently, our game uses a mechanism where you have to press the escape key in order to go onto the next level. We could implement this feature into our game. \n",
    "- As shown in the game found in CSSE1 made by Andrew G. and Pratheep N. Their game incorparated an wizard NPC that would take you to the next level. \n",
    "- This feature would allow the game to be better for the player to experience it, and once you finish a certain task you can talk to the NPC that takes you to the next level."
   ]
  },
  {
   "cell_type": "markdown",
   "metadata": {},
   "source": [
    "# Hacks"
   ]
  },
  {
   "cell_type": "markdown",
   "metadata": {},
   "source": [
    "## Since this is a relatively simple mechanic that you already draws from present resources, we expect more of you.\n",
    "- Choice 1: Make an NPC that advances to the next level ON COLLISION\n",
    "- Choice 2: Make an NPC that advances to the next level if you meet a certain condition, eg inplement a key system where if you pick up a key, you can move on to the next level.\n",
    "- Choice 3: Make an NPC that has you solve a quiz (this function is already in the game somewhere) and only lets you pass to the next level if you get it right.\n",
    "\n",
    "### Remember, you can do other hacks. These are just a few examples to get you started. Be creative and experiment with different ways to make the NPC's take you to the next level. Make sure to add comments to your code to explain!\n",
    "\n",
    "# Good Luck! And always remember to Code Code Code!"
   ]
  }
 ],
 "metadata": {
  "language_info": {
   "name": "python"
  }
 },
 "nbformat": 4,
 "nbformat_minor": 2
}
