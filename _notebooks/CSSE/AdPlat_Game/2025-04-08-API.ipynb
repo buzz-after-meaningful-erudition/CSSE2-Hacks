{
 "cells": [
  {
   "cell_type": "raw",
   "metadata": {
    "vscode": {
     "languageId": "raw"
    }
   },
   "source": [
    "---\n",
    "toc: true\n",
    "comments: true\n",
    "layout: post\n",
    "title: API's and how they are used\n",
    "description: Learn how API's work and how to implement one\n",
    "categories: [AdPlat] \n",
    "permalink: /adplat/API\n",
    "author: Zhengji Li\n",
    "courses: { csse: {week: 17} }\n",
    "type: ccc\n",
    "---"
   ]
  },
  {
   "cell_type": "markdown",
   "metadata": {},
   "source": [
    "# Web APIs"
   ]
  },
  {
   "cell_type": "markdown",
   "metadata": {},
   "source": [
    "### What is Web API?"
   ]
  },
  {
   "cell_type": "markdown",
   "metadata": {},
   "source": [
    " - API stands for Application Programming Interface.\n",
    " - A Web API is an application programming interface for the Web.\n",
    " - A Browser API can extend the functionality of a web browser.\n",
    " - A Server API can extend the functionality of a web server."
   ]
  },
  {
   "cell_type": "markdown",
   "metadata": {},
   "source": [
    "## Web APIs include methods and properties that extend functionalities of a browser"
   ]
  },
  {
   "cell_type": "markdown",
   "metadata": {},
   "source": [
    "#### Example:"
   ]
  },
  {
   "cell_type": "code",
   "execution_count": 5,
   "metadata": {
    "vscode": {
     "languageId": "javascript"
    }
   },
   "outputs": [
    {
     "data": {
      "application/javascript": "\nconst myArray = new Uint32Array(10);\nhi.getRandomValues(myArray);\nconsole.log(myArray)\n",
      "text/plain": [
       "<IPython.core.display.Javascript object>"
      ]
     },
     "metadata": {},
     "output_type": "display_data"
    }
   ],
   "source": [
    "%%js\n",
    "\n",
    "const myArray = new Uint32Array(10);\n",
    "crypto.getRandomValues(myArray);\n",
    "console.log(myArray)"
   ]
  },
  {
   "cell_type": "markdown",
   "metadata": {},
   "source": [
    "#### Explanation:\n",
    "This web API cerates a typed array of 10 integers called `Uint32Array` <br>\n",
    "It then fills it in with random values using `crypto.getRandomValues(myArray);` <br>\n",
    "`console.log(myArray)` prints out the random values\n",
    "\n",
    "### Uses:\n",
    "This is useful for security, where it would generate random cryptographic keys"
   ]
  },
  {
   "cell_type": "markdown",
   "metadata": {},
   "source": [
    "### Browser APIs"
   ]
  },
  {
   "cell_type": "markdown",
   "metadata": {},
   "source": [
    "All browsers have a set of built-in Web APIs to support complex operations, and to help accessing data.\n",
    "\n",
    "For example, the Geolocation API can return the coordinates of where the browser is located."
   ]
  },
  {
   "cell_type": "markdown",
   "metadata": {},
   "source": [
    "#### Example:"
   ]
  },
  {
   "cell_type": "code",
   "execution_count": null,
   "metadata": {
    "vscode": {
     "languageId": "javascript"
    }
   },
   "outputs": [],
   "source": [
    "// Gets latitude and longitude of user's position\n",
    "\n",
    "%%js\n",
    "\n",
    "const myElement = document.getElementById(\"demo\");\n",
    "\n",
    "function getLocation() {\n",
    "  if (navigator.geolocation) {\n",
    "    navigator.geolocation.getCurrentPosition(showPosition);\n",
    "  } else {\n",
    "    myElement.innerHTML = \"User denied geolocation\";\n",
    "  }\n",
    "}\n",
    "\n",
    "function showPosition(position) {\n",
    "  myElement.innerHTML = \"Latitude: \" + position.coords.latitude +\n",
    "  \"<br>Longitude: \" + position.coords.longitude;\n",
    "}"
   ]
  },
  {
   "cell_type": "markdown",
   "metadata": {},
   "source": [
    "This following code checks if the Geolocation API is in the user's browser, and if it is it uses `getCurrentPosition()` to find the users location. It then displays the latitude and longitude. If the Geolocation API is not in the users browser it returns 'Geolocation is not supported by this browser.'"
   ]
  }
 ],
 "metadata": {
  "kernelspec": {
   "display_name": "Python 3",
   "language": "python",
   "name": "python3"
  },
  "language_info": {
   "codemirror_mode": {
    "name": "ipython",
    "version": 3
   },
   "file_extension": ".py",
   "mimetype": "text/x-python",
   "name": "python",
   "nbconvert_exporter": "python",
   "pygments_lexer": "ipython3",
   "version": "3.12.1"
  }
 },
 "nbformat": 4,
 "nbformat_minor": 2
}
