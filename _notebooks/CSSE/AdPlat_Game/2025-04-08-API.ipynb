{
  "cells": [
    {
      "cell_type": "raw",
      "metadata": {
        "vscode": {
          "languageId": "raw"
        }
      },
      "source": [
        "---\n",
        "toc: true\n",
        "comments: true\n",
        "layout: post\n",
        "title: API's and how they are used\n",
        "description: Learn how API's work and how to implement one\n",
        "categories: [AdPlat] \n",
        "permalink: /adplat/API\n",
        "author: Zhengji Li\n",
        "courses: { csse: {week: 17} }\n",
        "type: ccc\n",
        "---"
      ]
    },
    {
      "cell_type": "markdown",
      "metadata": {},
      "source": [
        "# Web APIs"
      ]
    },
    {
      "cell_type": "markdown",
      "metadata": {},
      "source": [
        "### What is Web API?"
      ]
    },
    {
      "cell_type": "markdown",
      "metadata": {},
      "source": [
        " - API stands for Application Programming Interface.\n",
        " - A Web API is an application programming interface for the Web.\n",
        " - A Browser API can extend the functionality of a web browser.\n",
        " - A Server API can extend the functionality of a web server."
      ]
    },
    {
      "cell_type": "markdown",
      "metadata": {},
      "source": [
        "## Web APIs include methods and properties that extend functionalities of a browser"
      ]
    },
    {
      "cell_type": "markdown",
      "metadata": {},
      "source": [
        "#### Example:"
      ]
    },
    {
      "cell_type": "code",
      "execution_count": 5,
      "metadata": {
        "vscode": {
          "languageId": "javascript"
        }
      },
      "outputs": [
        {
          "data": {
            "application/javascript": "\nconst myArray = new Uint32Array(10);\ncrypto.getRandomValues(myArray);\nconsole.log(myArray)\n",
            "text/plain": [
              "<IPython.core.display.Javascript object>"
            ]
          },
          "metadata": {},
          "output_type": "display_data"
        }
      ],
      "source": [
        "%%js\n",
        "\n",
        "const myArray = new Uint32Array(10);\n",
        "crypto.getRandomValues(myArray);\n",
        "console.log(myArray)"
      ]
    },
    {
      "cell_type": "markdown",
      "metadata": {},
      "source": [
        "#### Explanation:\n",
        "This web API creates a typed array of 10 integers called `Uint32Array` <br>\n",
        "It then fills it in with random values using `crypto.getRandomValues(myArray);` <br>\n",
        "`console.log(myArray)` prints out the random values\n",
        "\n",
        "### Uses:\n",
        "This is useful for security, where it would generate random cryptographic keys"
      ]
    },
    {
      "cell_type": "markdown",
      "metadata": {},
      "source": [
        "### Browser APIs"
      ]
    },
    {
      "cell_type": "markdown",
      "metadata": {},
      "source": [
        "All browsers have a set of built-in Web APIs to support complex operations, and to help accessing data.\n",
        "\n",
        "For example, the Geolocation API can return the coordinates of where the browser is located."
      ]
    },
    {
      "cell_type": "markdown",
      "metadata": {},
      "source": [
        "#### Example:"
      ]
    },
    {
      "cell_type": "code",
      "execution_count": null,
      "metadata": {
        "vscode": {
          "languageId": "javascript"
        }
      },
      "outputs": [],
      "source": [
        "// Gets latitude and longitude of user's position\n",
        "\n",
        "%%js\n",
        "\n",
        "const myElement = document.getElementById(\"demo\");\n",
        "\n",
        "function getLocation() {\n",
        "if (navigator.geolocation) {\n",
        "  navigator.geolocation.getCurrentPosition(showPosition);\n",
        "} else {\n",
        "  myElement.innerHTML = \"User denied geolocation\";\n",
        "}\n",
        "}\n",
        "\n",
        "function showPosition(position) {\n",
        "myElement.innerHTML = \"Latitude: \" + position.coords.latitude +\n",
        "\"<br>Longitude: \" + position.coords.longitude;\n",
        "}"
      ]
    },
    {
      "cell_type": "markdown",
      "metadata": {},
      "source": [
        "This following code checks if the Geolocation API is in the user's browser, and if it is it uses `getCurrentPosition()` to find the user's location. It then displays the latitude and longitude."
      ]
    },
    {
      "cell_type": "markdown",
      "metadata": {},
      "source": [
        "### 1. Fetch API - Making HTTP Requests"
      ]
    },
    {
      "cell_type": "code",
      "execution_count": null,
      "metadata": {
        "vscode": {
          "languageId": "javascript"
        }
      },
      "outputs": [],
      "source": [
        "%%js\n",
        "\n",
        "// Example of fetching data from a public API\n",
        "async function fetchData() {\n",
        "  try {\n",
        "    const response = await fetch('https://jsonplaceholder.typicode.com/posts/1');\n",
        "    const data = await response.json();\n",
        "    console.log('Fetched data:', data);\n",
        "  } catch (error) {\n",
        "    console.error('Error fetching data:', error);\n",
        "  }\n",
        "}\n",
        "\n",
        "fetchData();"
      ]
    },
    {
      "cell_type": "markdown",
      "metadata": {},
      "source": [
        "### 2. Local Storage API - Storing Data Locally"
      ]
    },
    {
      "cell_type": "code",
      "execution_count": null,
      "metadata": {
        "vscode": {
          "languageId": "javascript"
        }
      },
      "outputs": [],
      "source": [
        "%%js\n",
        "\n",
        "// Store data\n",
        "localStorage.setItem('username', 'JohnDoe');\n",
        "localStorage.setItem('theme', 'dark');\n",
        "\n",
        "// Retrieve data\n",
        "const username = localStorage.getItem('username');\n",
        "const theme = localStorage.getItem('theme');\n",
        "\n",
        "console.log('Username:', username);\n",
        "console.log('Theme:', theme);"
      ]
    },
    {
      "cell_type": "markdown",
      "metadata": {},
      "source": [
        "### 3. Canvas API - Drawing Graphics"
      ]
    },
    {
      "cell_type": "code",
      "execution_count": null,
      "metadata": {
        "vscode": {
          "languageId": "javascript"
        }
      },
      "outputs": [],
      "source": [
        "%%js\n",
        "\n",
        "// Create a canvas element\n",
        "const canvas = document.createElement('canvas');\n",
        "canvas.width = 200;\n",
        "canvas.height = 200;\n",
        "document.body.appendChild(canvas);\n",
        "\n",
        "// Get the context\n",
        "const ctx = canvas.getContext('2d');\n",
        "\n",
        "// Draw a circle\n",
        "ctx.beginPath();\n",
        "ctx.arc(100, 100, 50, 0, Math.PI * 2);\n",
        "ctx.fillStyle = 'blue';\n",
        "ctx.fill();\n",
        "ctx.stroke();"
      ]
    },
    {
      "cell_type": "markdown",
      "metadata": {},
      "source": [
        "## Hacks: Building a Weather App"
      ]
    },
    {
      "cell_type": "markdown",
      "metadata": {},
      "source": [
        "### Instructions:\n",
        "We'll build a simple weather app using these Web APIs:\n",
        "1. **Geolocation API** - To get the user's location\n",
        "2. **Fetch API** - To get weather data from OpenWeatherMap\n",
        "3. **Local Storage API** - To save user preferences\n",
        "\n",
        "### Step 1: Get Your API Key\n",
        "1. Go to [OpenWeatherMap](https://openweathermap.org/)\n",
        "2. Sign up for a free account\n",
        "3. Get your API key from your account dashboard\n",
        "\n",
        "### Step 2: Template Code\n",
        "Here's a template to get you started:"
      ]
    },
    {
      "cell_type": "code",
      "execution_count": null,
      "metadata": {
        "vscode": {
          "languageId": "javascript"
        }
      },
      "outputs": [],
      "source": [
        "%%js\n",
        "\n",
        "// Replace with your API key\n",
        "const API_KEY = 'YOUR_API_KEY';\n",
        "\n",
        "// HTML elements\n",
        "const weatherInfo = document.createElement('div');\n",
        "weatherInfo.id = 'weather-info';\n",
        "document.body.appendChild(weatherInfo);\n",
        "\n",
        "// Get user's location\n",
        "function getLocation() {\n",
        "  if (navigator.geolocation) {\n",
        "    navigator.geolocation.getCurrentPosition(getWeather, showError);\n",
        "  } else {\n",
        "    weatherInfo.innerHTML = \"Geolocation is not supported by this browser.\";\n",
        "  }\n",
        "}\n",
        "\n",
        "// Handle geolocation errors\n",
        "function showError(error) {\n",
        "  switch(error.code) {\n",
        "    case error.PERMISSION_DENIED:\n",
        "      weatherInfo.innerHTML = \"User denied the request for Geolocation.\";\n",
        "      break;\n",
        "    case error.POSITION_UNAVAILABLE:\n",
        "      weatherInfo.innerHTML = \"Location information is unavailable.\";\n",
        "      break;\n",
        "    case error.TIMEOUT:\n",
        "      weatherInfo.innerHTML = \"The request to get user location timed out.\";\n",
        "      break;\n",
        "    default:\n",
        "      weatherInfo.innerHTML = \"An unknown error occurred.\";\n",
        "  }\n",
        "}\n",
        "\n",
        "// Get weather data\n",
        "async function getWeather(position) {\n",
        "  const { latitude, longitude } = position.coords;\n",
        "  \n",
        "  try {\n",
        "    const response = await fetch(`https://api.openweathermap.org/data/2.5/weather?lat=${latitude}&lon=${longitude}&appid=${API_KEY}&units=metric`);\n",
        "    const data = await response.json();\n",
        "    \n",
        "    // Display weather information\n",
        "    displayWeather(data);\n",
        "  } catch (error) {\n",
        "    weatherInfo.innerHTML = \"Error fetching weather data: \" + error;\n",
        "  }\n",
        "}\n",
        "\n",
        "// Display weather information\n",
        "function displayWeather(data) {\n",
        "  const temp = data.main.temp;\n",
        "  const description = data.weather[0].description;\n",
        "  const city = data.name;\n",
        "  \n",
        "  weatherInfo.innerHTML = `\n",
        "    <h2>Weather in ${city}</h2>\n",
        "    <p>Temperature: ${temp}°C</p>\n",
        "    <p>Description: ${description}</p>\n",
        "  `;\n",
        "}\n",
        "\n",
        "// Start the app\n",
        "getLocation();"
      ]
    },
    {
      "cell_type": "markdown",
      "metadata": {},
      "source": [
        "### Step 3: Enhancements to Add\n",
        "\n",
        "1. **Add Temperature Unit Toggle**\n",
        "```javascript\n",
        "// Add this to your code\n",
        "let isCelsius = true;\n",
        "\n",
        "function toggleTemperature() {\n",
        "  isCelsius = !isCelsius;\n",
        "  localStorage.setItem('temperatureUnit', isCelsius ? 'celsius' : 'fahrenheit');\n",
        "  getLocation(); // Refresh weather data\n",
        "}\n",
        "```\n",
        "\n",
        "2. **Add a Toggle Button**\n",
        "```javascript\n",
        "const toggleBtn = document.createElement('button');\n",
        "toggleBtn.textContent = 'Toggle °C/°F';\n",
        "toggleBtn.onclick = toggleTemperature;\n",
        "document.body.appendChild(toggleBtn);\n",
        "```\n",
        "\n",
        "3. **Load User Preferences**\n",
        "```javascript\n",
        "// Add this at the start of your code\n",
        "const savedUnit = localStorage.getItem('temperatureUnit');\n",
        "if (savedUnit) {\n",
        "  isCelsius = savedUnit === 'celsius';\n",
        "}\n",
        "```\n",
        "\n",
        "### Tips for Success:\n",
        "1. Start by getting your API key from OpenWeatherMap\n",
        "2. Copy the template code and replace 'YOUR_API_KEY' with your actual key\n",
        "3. Test the basic functionality first\n",
        "4. Add the enhancements one at a time\n",
        "5. Use console.log() to debug if something isn't working\n",
        "\n",
        "### Common Issues and Solutions:\n",
        "1. **API Key Not Working**: Make sure you've copied the key correctly\n",
        "2. **Location Not Working**: Check if you've allowed location access in your browser\n",
        "3. **Weather Data Not Showing**: Check the browser console for error messages\n",
        "4. **Temperature Toggle Not Working**: Make sure you've added all the enhancement code"
      ]
    }
  ],
  "metadata": {
    "kernelspec": {
      "display_name": "Python 3",
      "language": "python",
      "name": "python3"
    },
    "language_info": {
      "codemirror_mode": {
        "name": "ipython",
        "version": 3
      },
      "file_extension": ".py",
      "mimetype": "text/x-python",
      "name": "python",
      "nbconvert_exporter": "python",
      "pygments_lexer": "ipython3",
      "version": "3.12.1"
    }
  },
  "nbformat": 4,
  "nbformat_minor": 2
}
