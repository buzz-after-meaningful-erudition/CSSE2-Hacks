{
 "cells": [
  {
   "cell_type": "raw",
   "metadata": {
    "vscode": {
     "languageId": "raw"
    }
   },
   "source": [
    "---\n",
    "toc: true\n",
    "comments: true\n",
    "layout: post\n",
    "title: API's and how they are used\n",
    "description: Learn how API's work and how to implement one\n",
    "categories: [AdPlat] \n",
    "permalink: /adplat/API\n",
    "author: Zhengji Li\n",
    "courses: { csse: {week: 17} }\n",
    "type: ccc\n",
    "---"
   ]
  },
  {
   "cell_type": "markdown",
   "metadata": {},
   "source": [
    "# Web APIs"
   ]
  },
  {
   "cell_type": "markdown",
   "metadata": {},
   "source": [
    "### What is Web API?"
   ]
  },
  {
   "cell_type": "markdown",
   "metadata": {},
   "source": [
    " - API stands for Application Programming Interface.\n",
    " - A Web API is an application programming interface for the Web.\n",
    " - A Browser API can extend the functionality of a web browser.\n",
    " - A Server API can extend the functionality of a web server."
   ]
  },
  {
   "cell_type": "markdown",
   "metadata": {},
   "source": [
    "## Web APIs include methods and properties that extend functionalities of a browser"
   ]
  },
  {
   "cell_type": "markdown",
   "metadata": {},
   "source": [
    "#### Example:"
   ]
  },
  {
   "cell_type": "code",
   "execution_count": 5,
   "metadata": {
    "vscode": {
     "languageId": "javascript"
    }
   },
   "outputs": [
    {
     "data": {
      "application/javascript": "\nconst myArray = new Uint32Array(10);\nhi.getRandomValues(myArray);\nconsole.log(myArray)\n",
      "text/plain": [
       "<IPython.core.display.Javascript object>"
      ]
     },
     "metadata": {},
     "output_type": "display_data"
    }
   ],
   "source": [
    "%%js\n",
    "\n",
    "const myArray = new Uint32Array(10);\n",
    "crypto.getRandomValues(myArray);\n",
    "console.log(myArray)"
   ]
  },
  {
   "cell_type": "markdown",
   "metadata": {},
   "source": [
    "#### Explanation:\n",
    "This web API cerates a typed array of 10 integers called `Uint32Array` <br>\n",
    "It then fills it in with random values using `crypto.getRandomValues(myArray);` <br>\n",
    "`console.log(myArray)` prints out the random values\n",
    "\n",
    "### Uses:\n",
    "This is useful for security, where it would generate random cryptographic keys"
   ]
  },
  {
   "cell_type": "markdown",
   "metadata": {},
   "source": [
    "### Browser APIs"
   ]
  },
  {
   "cell_type": "markdown",
   "metadata": {},
   "source": [
    "All browsers have a set of built-in Web APIs to support complex operations, and to help accessing data.\n",
    "\n",
    "For example, the Geolocation API can return the coordinates of where the browser is located."
   ]
  },
  {
   "cell_type": "markdown",
   "metadata": {},
   "source": [
    "#### Example:"
   ]
  },
  {
   "cell_type": "code",
   "execution_count": null,
   "metadata": {
    "vscode": {
     "languageId": "javascript"
    }
   },
   "outputs": [],
   "source": [
    "// Gets latitude and longitude of user's position\n",
    "\n",
    "%%js\n",
    "\n",
    "const myElement = document.getElementById(\"demo\");\n",
    "\n",
    "function getLocation() {\n",
    "  if (navigator.geolocation) {\n",
    "    navigator.geolocation.getCurrentPosition(showPosition);\n",
    "  } else {\n",
    "    myElement.innerHTML = \"User denied geolocation\";\n",
    "  }\n",
    "}\n",
    "\n",
    "function showPosition(position) {\n",
    "  myElement.innerHTML = \"Latitude: \" + position.coords.latitude +\n",
    "  \"<br>Longitude: \" + position.coords.longitude;\n",
    "}"
   ]
  },
  {
   "cell_type": "markdown",
   "metadata": {},
   "source": [
    "This following code checks if the Geolocation API is in the user's browser, and if it is it uses `getCurrentPosition()` to find the users location. It then displays the latitude and longitude. If the Geolocation API is not in the users browser it returns 'Geolocation is not supported by this browser.'"
   ]
  }
 ],
 "metadata": {
  "kernelspec": {
   "display_name": "Python 3",
   "language": "python",
   "name": "python3"
  },
  "language_info": {
   "codemirror_mode": {
    "name": "ipython",
    "version": 3
   },
   "file_extension": ".py",
   "mimetype": "text/x-python",
   "name": "python",
   "nbconvert_exporter": "python",
   "pygments_lexer": "ipython3",
   "version": "3.12.1"
  }
 },
 "nbformat": 4,
 "nbformat_minor": 2
}

// ... existing code ...
  }
 ],
 "metadata": {
  "kernelspec": {
   "display_name": "Python 3",
   "language": "python",
   "name": "python3"
  },
  "language_info": {
   "codemirror_mode": {
    "name": "ipython",
    "version": 3
   },
   "file_extension": ".py",
   "mimetype": "text/x-python",
   "name": "python",
   "nbconvert_exporter": "python",
   "pygments_lexer": "ipython3",
   "version": "3.12.1"
  }
 },
 "nbformat": 4,
 "nbformat_minor": 2,
 "cells": [
  {
   "cell_type": "markdown",
   "metadata": {},
   "source": [
    "## More Web API Examples"
   ]
  },
  {
   "cell_type": "markdown",
   "metadata": {},
   "source": [
    "### 1. Fetch API - Making HTTP Requests"
   ]
  },
  {
   "cell_type": "code",
   "execution_count": null,
   "metadata": {
    "vscode": {
     "languageId": "javascript"
    }
   },
   "outputs": [],
   "source": [
    "%%js\n",
    "\n",
    "// Example of fetching data from a public API\n",
    "async function fetchData() {\n",
    "  try {\n",
    "    const response = await fetch('https://jsonplaceholder.typicode.com/posts/1');\n",
    "    const data = await response.json();\n",
    "    console.log('Fetched data:', data);\n",
    "  } catch (error) {\n",
    "    console.error('Error fetching data:', error);\n",
    "  }\n",
    "}\n",
    "\n",
    "fetchData();"
   ]
  },
  {
   "cell_type": "markdown",
   "metadata": {},
   "source": [
    "### 2. Local Storage API - Storing Data Locally"
   ]
  },
  {
   "cell_type": "code",
   "execution_count": null,
   "metadata": {
    "vscode": {
     "languageId": "javascript"
    }
   },
   "outputs": [],
   "source": [
    "%%js\n",
    "\n",
    "// Store data\n",
    "localStorage.setItem('username', 'JohnDoe');\n",
    "localStorage.setItem('theme', 'dark');\n",
    "\n",
    "// Retrieve data\n",
    "const username = localStorage.getItem('username');\n",
    "const theme = localStorage.getItem('theme');\n",
    "\n",
    "console.log('Username:', username);\n",
    "console.log('Theme:', theme);"
   ]
  },
  {
   "cell_type": "markdown",
   "metadata": {},
   "source": [
    "### 3. Canvas API - Drawing Graphics"
   ]
  },
  {
   "cell_type": "code",
   "execution_count": null,
   "metadata": {
    "vscode": {
     "languageId": "javascript"
    }
   },
   "outputs": [],
   "source": [
    "%%js\n",
    "\n",
    "// Create a canvas element\n",
    "const canvas = document.createElement('canvas');\n",
    "canvas.width = 200;\n",
    "canvas.height = 200;\n",
    "document.body.appendChild(canvas);\n",
    "\n",
    "// Get the context\n",
    "const ctx = canvas.getContext('2d');\n",
    "\n",
    "// Draw a circle\n",
    "ctx.beginPath();\n",
    "ctx.arc(100, 100, 50, 0, Math.PI * 2);\n",
    "ctx.fillStyle = 'blue';\n",
    "ctx.fill();\n",
    "ctx.stroke();"
   ]
  },
  {
   "cell_type": "markdown",
   "metadata": {},
   "source": [
    "## Practice Exercise: Building a Weather App"
   ]
  },
  {
   "cell_type": "markdown",
   "metadata": {},
   "source": [
    "### Instructions:\n",
    "1. Create a simple weather application that:\n",
    "   - Uses the Geolocation API to get the user's location\n",
    "   - Uses the Fetch API to get weather data from a weather API (like OpenWeatherMap)\n",
    "   - Stores the user's preferred temperature unit (Celsius/Fahrenheit) in localStorage\n",
    "   - Displays the weather information in a clean format\n",
    "\n",
    "### Requirements:\n",
    "- Use at least 3 different Web APIs\n",
    "- Handle errors appropriately\n",
    "- Include a way to toggle between Celsius and Fahrenheit\n",
    "- Store user preferences in localStorage\n",
    "\n",
    "### Starter Code:"
   ]
  },
  {
   "cell_type": "code",
   "execution_count": null,
   "metadata": {
    "vscode": {
     "languageId": "javascript"
    }
   },
   "outputs": [],
   "source": [
    "%%js\n",
    "\n",
    "// Your code here\n",
    "// Hint: You'll need to:\n",
    "// 1. Get user's location using navigator.geolocation\n",
    "// 2. Use fetch to get weather data\n",
    "// 3. Store temperature preference in localStorage\n",
    "// 4. Display the weather information\n",
    "\n",
    "// Example API endpoint for weather data:\n",
    "// https://api.openweathermap.org/data/2.5/weather?lat={lat}&lon={lon}&appid={API_KEY}\n",
    "\n",
    "// Remember to handle errors and edge cases!"
   ]
  },
  {
   "cell_type": "markdown",
   "metadata": {},
   "source": [
    "### Tips:\n",
    "1. Start by getting the user's location\n",
    "2. Use the location coordinates to fetch weather data\n",
    "3. Create a simple UI to display the weather information\n",
    "4. Add a toggle button for temperature units\n",
    "5. Store the user's preference in localStorage\n",
    "6. Handle cases where the user denies location access\n",
    "\n",
    "### Extension Ideas:\n",
    "- Add a 5-day forecast\n",
    "- Include weather icons\n",
    "- Add a search feature for different locations\n",
    "- Implement a dark/light theme toggle"
   ]
  }
 ]
}
